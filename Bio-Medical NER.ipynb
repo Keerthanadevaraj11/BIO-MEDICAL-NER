{
  "nbformat": 4,
  "nbformat_minor": 0,
  "metadata": {
    "colab": {
      "provenance": [],
      "gpuType": "T4"
    },
    "kernelspec": {
      "name": "python3",
      "display_name": "Python 3"
    },
    "language_info": {
      "name": "python"
    },
    "accelerator": "GPU",
    "gpuClass": "standard",
    "widgets": {
      "application/vnd.jupyter.widget-state+json": {
        "0ea9fda531c14051918470387a3a5a38": {
          "model_module": "@jupyter-widgets/controls",
          "model_name": "HBoxModel",
          "model_module_version": "1.5.0",
          "state": {
            "_dom_classes": [],
            "_model_module": "@jupyter-widgets/controls",
            "_model_module_version": "1.5.0",
            "_model_name": "HBoxModel",
            "_view_count": null,
            "_view_module": "@jupyter-widgets/controls",
            "_view_module_version": "1.5.0",
            "_view_name": "HBoxView",
            "box_style": "",
            "children": [
              "IPY_MODEL_d0f6fa80a3e7414eb5a7cb7b92ec6b73",
              "IPY_MODEL_673367b940d746eb8155fdaa8e284f87",
              "IPY_MODEL_94f3169e59824467875f65a244adc44d"
            ],
            "layout": "IPY_MODEL_e886aa8c7fba42368e2ed1a05c2e04d2"
          }
        },
        "d0f6fa80a3e7414eb5a7cb7b92ec6b73": {
          "model_module": "@jupyter-widgets/controls",
          "model_name": "HTMLModel",
          "model_module_version": "1.5.0",
          "state": {
            "_dom_classes": [],
            "_model_module": "@jupyter-widgets/controls",
            "_model_module_version": "1.5.0",
            "_model_name": "HTMLModel",
            "_view_count": null,
            "_view_module": "@jupyter-widgets/controls",
            "_view_module_version": "1.5.0",
            "_view_name": "HTMLView",
            "description": "",
            "description_tooltip": null,
            "layout": "IPY_MODEL_a7a223cd3fbb47bca7e2decb28ea491f",
            "placeholder": "​",
            "style": "IPY_MODEL_1b3405f49f314ba9817d25e2c2228b81",
            "value": "100%"
          }
        },
        "673367b940d746eb8155fdaa8e284f87": {
          "model_module": "@jupyter-widgets/controls",
          "model_name": "FloatProgressModel",
          "model_module_version": "1.5.0",
          "state": {
            "_dom_classes": [],
            "_model_module": "@jupyter-widgets/controls",
            "_model_module_version": "1.5.0",
            "_model_name": "FloatProgressModel",
            "_view_count": null,
            "_view_module": "@jupyter-widgets/controls",
            "_view_module_version": "1.5.0",
            "_view_name": "ProgressView",
            "bar_style": "success",
            "description": "",
            "description_tooltip": null,
            "layout": "IPY_MODEL_3ce79a83eb964dcab5eca7c6ac1d9068",
            "max": 3,
            "min": 0,
            "orientation": "horizontal",
            "style": "IPY_MODEL_08a8f12e54044e3f96111e85473625e1",
            "value": 3
          }
        },
        "94f3169e59824467875f65a244adc44d": {
          "model_module": "@jupyter-widgets/controls",
          "model_name": "HTMLModel",
          "model_module_version": "1.5.0",
          "state": {
            "_dom_classes": [],
            "_model_module": "@jupyter-widgets/controls",
            "_model_module_version": "1.5.0",
            "_model_name": "HTMLModel",
            "_view_count": null,
            "_view_module": "@jupyter-widgets/controls",
            "_view_module_version": "1.5.0",
            "_view_name": "HTMLView",
            "description": "",
            "description_tooltip": null,
            "layout": "IPY_MODEL_5ea949ed2070477793483d7ccb905676",
            "placeholder": "​",
            "style": "IPY_MODEL_e889a658d81445a8834d57661c32801c",
            "value": " 3/3 [00:00&lt;00:00, 119.88it/s]"
          }
        },
        "e886aa8c7fba42368e2ed1a05c2e04d2": {
          "model_module": "@jupyter-widgets/base",
          "model_name": "LayoutModel",
          "model_module_version": "1.2.0",
          "state": {
            "_model_module": "@jupyter-widgets/base",
            "_model_module_version": "1.2.0",
            "_model_name": "LayoutModel",
            "_view_count": null,
            "_view_module": "@jupyter-widgets/base",
            "_view_module_version": "1.2.0",
            "_view_name": "LayoutView",
            "align_content": null,
            "align_items": null,
            "align_self": null,
            "border": null,
            "bottom": null,
            "display": null,
            "flex": null,
            "flex_flow": null,
            "grid_area": null,
            "grid_auto_columns": null,
            "grid_auto_flow": null,
            "grid_auto_rows": null,
            "grid_column": null,
            "grid_gap": null,
            "grid_row": null,
            "grid_template_areas": null,
            "grid_template_columns": null,
            "grid_template_rows": null,
            "height": null,
            "justify_content": null,
            "justify_items": null,
            "left": null,
            "margin": null,
            "max_height": null,
            "max_width": null,
            "min_height": null,
            "min_width": null,
            "object_fit": null,
            "object_position": null,
            "order": null,
            "overflow": null,
            "overflow_x": null,
            "overflow_y": null,
            "padding": null,
            "right": null,
            "top": null,
            "visibility": null,
            "width": null
          }
        },
        "a7a223cd3fbb47bca7e2decb28ea491f": {
          "model_module": "@jupyter-widgets/base",
          "model_name": "LayoutModel",
          "model_module_version": "1.2.0",
          "state": {
            "_model_module": "@jupyter-widgets/base",
            "_model_module_version": "1.2.0",
            "_model_name": "LayoutModel",
            "_view_count": null,
            "_view_module": "@jupyter-widgets/base",
            "_view_module_version": "1.2.0",
            "_view_name": "LayoutView",
            "align_content": null,
            "align_items": null,
            "align_self": null,
            "border": null,
            "bottom": null,
            "display": null,
            "flex": null,
            "flex_flow": null,
            "grid_area": null,
            "grid_auto_columns": null,
            "grid_auto_flow": null,
            "grid_auto_rows": null,
            "grid_column": null,
            "grid_gap": null,
            "grid_row": null,
            "grid_template_areas": null,
            "grid_template_columns": null,
            "grid_template_rows": null,
            "height": null,
            "justify_content": null,
            "justify_items": null,
            "left": null,
            "margin": null,
            "max_height": null,
            "max_width": null,
            "min_height": null,
            "min_width": null,
            "object_fit": null,
            "object_position": null,
            "order": null,
            "overflow": null,
            "overflow_x": null,
            "overflow_y": null,
            "padding": null,
            "right": null,
            "top": null,
            "visibility": null,
            "width": null
          }
        },
        "1b3405f49f314ba9817d25e2c2228b81": {
          "model_module": "@jupyter-widgets/controls",
          "model_name": "DescriptionStyleModel",
          "model_module_version": "1.5.0",
          "state": {
            "_model_module": "@jupyter-widgets/controls",
            "_model_module_version": "1.5.0",
            "_model_name": "DescriptionStyleModel",
            "_view_count": null,
            "_view_module": "@jupyter-widgets/base",
            "_view_module_version": "1.2.0",
            "_view_name": "StyleView",
            "description_width": ""
          }
        },
        "3ce79a83eb964dcab5eca7c6ac1d9068": {
          "model_module": "@jupyter-widgets/base",
          "model_name": "LayoutModel",
          "model_module_version": "1.2.0",
          "state": {
            "_model_module": "@jupyter-widgets/base",
            "_model_module_version": "1.2.0",
            "_model_name": "LayoutModel",
            "_view_count": null,
            "_view_module": "@jupyter-widgets/base",
            "_view_module_version": "1.2.0",
            "_view_name": "LayoutView",
            "align_content": null,
            "align_items": null,
            "align_self": null,
            "border": null,
            "bottom": null,
            "display": null,
            "flex": null,
            "flex_flow": null,
            "grid_area": null,
            "grid_auto_columns": null,
            "grid_auto_flow": null,
            "grid_auto_rows": null,
            "grid_column": null,
            "grid_gap": null,
            "grid_row": null,
            "grid_template_areas": null,
            "grid_template_columns": null,
            "grid_template_rows": null,
            "height": null,
            "justify_content": null,
            "justify_items": null,
            "left": null,
            "margin": null,
            "max_height": null,
            "max_width": null,
            "min_height": null,
            "min_width": null,
            "object_fit": null,
            "object_position": null,
            "order": null,
            "overflow": null,
            "overflow_x": null,
            "overflow_y": null,
            "padding": null,
            "right": null,
            "top": null,
            "visibility": null,
            "width": null
          }
        },
        "08a8f12e54044e3f96111e85473625e1": {
          "model_module": "@jupyter-widgets/controls",
          "model_name": "ProgressStyleModel",
          "model_module_version": "1.5.0",
          "state": {
            "_model_module": "@jupyter-widgets/controls",
            "_model_module_version": "1.5.0",
            "_model_name": "ProgressStyleModel",
            "_view_count": null,
            "_view_module": "@jupyter-widgets/base",
            "_view_module_version": "1.2.0",
            "_view_name": "StyleView",
            "bar_color": null,
            "description_width": ""
          }
        },
        "5ea949ed2070477793483d7ccb905676": {
          "model_module": "@jupyter-widgets/base",
          "model_name": "LayoutModel",
          "model_module_version": "1.2.0",
          "state": {
            "_model_module": "@jupyter-widgets/base",
            "_model_module_version": "1.2.0",
            "_model_name": "LayoutModel",
            "_view_count": null,
            "_view_module": "@jupyter-widgets/base",
            "_view_module_version": "1.2.0",
            "_view_name": "LayoutView",
            "align_content": null,
            "align_items": null,
            "align_self": null,
            "border": null,
            "bottom": null,
            "display": null,
            "flex": null,
            "flex_flow": null,
            "grid_area": null,
            "grid_auto_columns": null,
            "grid_auto_flow": null,
            "grid_auto_rows": null,
            "grid_column": null,
            "grid_gap": null,
            "grid_row": null,
            "grid_template_areas": null,
            "grid_template_columns": null,
            "grid_template_rows": null,
            "height": null,
            "justify_content": null,
            "justify_items": null,
            "left": null,
            "margin": null,
            "max_height": null,
            "max_width": null,
            "min_height": null,
            "min_width": null,
            "object_fit": null,
            "object_position": null,
            "order": null,
            "overflow": null,
            "overflow_x": null,
            "overflow_y": null,
            "padding": null,
            "right": null,
            "top": null,
            "visibility": null,
            "width": null
          }
        },
        "e889a658d81445a8834d57661c32801c": {
          "model_module": "@jupyter-widgets/controls",
          "model_name": "DescriptionStyleModel",
          "model_module_version": "1.5.0",
          "state": {
            "_model_module": "@jupyter-widgets/controls",
            "_model_module_version": "1.5.0",
            "_model_name": "DescriptionStyleModel",
            "_view_count": null,
            "_view_module": "@jupyter-widgets/base",
            "_view_module_version": "1.2.0",
            "_view_name": "StyleView",
            "description_width": ""
          }
        },
        "80273f72135a4942ab188091680913ab": {
          "model_module": "@jupyter-widgets/controls",
          "model_name": "HBoxModel",
          "model_module_version": "1.5.0",
          "state": {
            "_dom_classes": [],
            "_model_module": "@jupyter-widgets/controls",
            "_model_module_version": "1.5.0",
            "_model_name": "HBoxModel",
            "_view_count": null,
            "_view_module": "@jupyter-widgets/controls",
            "_view_module_version": "1.5.0",
            "_view_name": "HBoxView",
            "box_style": "",
            "children": [
              "IPY_MODEL_b66a571a8e984349904be3e83d57d13b",
              "IPY_MODEL_2a6c4f39f60e49cda998d2274b9c01cc",
              "IPY_MODEL_189937c613d24fdc9558702a78830bb2"
            ],
            "layout": "IPY_MODEL_8567cdcf019c4b3bb589910c2cb08ec4"
          }
        },
        "b66a571a8e984349904be3e83d57d13b": {
          "model_module": "@jupyter-widgets/controls",
          "model_name": "HTMLModel",
          "model_module_version": "1.5.0",
          "state": {
            "_dom_classes": [],
            "_model_module": "@jupyter-widgets/controls",
            "_model_module_version": "1.5.0",
            "_model_name": "HTMLModel",
            "_view_count": null,
            "_view_module": "@jupyter-widgets/controls",
            "_view_module_version": "1.5.0",
            "_view_name": "HTMLView",
            "description": "",
            "description_tooltip": null,
            "layout": "IPY_MODEL_950e7f2dea17429f9150733e5d16bae3",
            "placeholder": "​",
            "style": "IPY_MODEL_43e6f5758614481abfe9b184ccc54065",
            "value": "Downloading pytorch_model.bin: 100%"
          }
        },
        "2a6c4f39f60e49cda998d2274b9c01cc": {
          "model_module": "@jupyter-widgets/controls",
          "model_name": "FloatProgressModel",
          "model_module_version": "1.5.0",
          "state": {
            "_dom_classes": [],
            "_model_module": "@jupyter-widgets/controls",
            "_model_module_version": "1.5.0",
            "_model_name": "FloatProgressModel",
            "_view_count": null,
            "_view_module": "@jupyter-widgets/controls",
            "_view_module_version": "1.5.0",
            "_view_name": "ProgressView",
            "bar_style": "success",
            "description": "",
            "description_tooltip": null,
            "layout": "IPY_MODEL_0aa5df7ec52c44039f8304716d287f2c",
            "max": 440474434,
            "min": 0,
            "orientation": "horizontal",
            "style": "IPY_MODEL_66eeeaa48dda4af18086575cdc7fcade",
            "value": 440474434
          }
        },
        "189937c613d24fdc9558702a78830bb2": {
          "model_module": "@jupyter-widgets/controls",
          "model_name": "HTMLModel",
          "model_module_version": "1.5.0",
          "state": {
            "_dom_classes": [],
            "_model_module": "@jupyter-widgets/controls",
            "_model_module_version": "1.5.0",
            "_model_name": "HTMLModel",
            "_view_count": null,
            "_view_module": "@jupyter-widgets/controls",
            "_view_module_version": "1.5.0",
            "_view_name": "HTMLView",
            "description": "",
            "description_tooltip": null,
            "layout": "IPY_MODEL_b533e7df8d5e4f7a933de73806c49476",
            "placeholder": "​",
            "style": "IPY_MODEL_5aeef1648c674e8b977c8f6f5393eaa9",
            "value": " 440M/440M [00:02&lt;00:00, 212MB/s]"
          }
        },
        "8567cdcf019c4b3bb589910c2cb08ec4": {
          "model_module": "@jupyter-widgets/base",
          "model_name": "LayoutModel",
          "model_module_version": "1.2.0",
          "state": {
            "_model_module": "@jupyter-widgets/base",
            "_model_module_version": "1.2.0",
            "_model_name": "LayoutModel",
            "_view_count": null,
            "_view_module": "@jupyter-widgets/base",
            "_view_module_version": "1.2.0",
            "_view_name": "LayoutView",
            "align_content": null,
            "align_items": null,
            "align_self": null,
            "border": null,
            "bottom": null,
            "display": null,
            "flex": null,
            "flex_flow": null,
            "grid_area": null,
            "grid_auto_columns": null,
            "grid_auto_flow": null,
            "grid_auto_rows": null,
            "grid_column": null,
            "grid_gap": null,
            "grid_row": null,
            "grid_template_areas": null,
            "grid_template_columns": null,
            "grid_template_rows": null,
            "height": null,
            "justify_content": null,
            "justify_items": null,
            "left": null,
            "margin": null,
            "max_height": null,
            "max_width": null,
            "min_height": null,
            "min_width": null,
            "object_fit": null,
            "object_position": null,
            "order": null,
            "overflow": null,
            "overflow_x": null,
            "overflow_y": null,
            "padding": null,
            "right": null,
            "top": null,
            "visibility": null,
            "width": null
          }
        },
        "950e7f2dea17429f9150733e5d16bae3": {
          "model_module": "@jupyter-widgets/base",
          "model_name": "LayoutModel",
          "model_module_version": "1.2.0",
          "state": {
            "_model_module": "@jupyter-widgets/base",
            "_model_module_version": "1.2.0",
            "_model_name": "LayoutModel",
            "_view_count": null,
            "_view_module": "@jupyter-widgets/base",
            "_view_module_version": "1.2.0",
            "_view_name": "LayoutView",
            "align_content": null,
            "align_items": null,
            "align_self": null,
            "border": null,
            "bottom": null,
            "display": null,
            "flex": null,
            "flex_flow": null,
            "grid_area": null,
            "grid_auto_columns": null,
            "grid_auto_flow": null,
            "grid_auto_rows": null,
            "grid_column": null,
            "grid_gap": null,
            "grid_row": null,
            "grid_template_areas": null,
            "grid_template_columns": null,
            "grid_template_rows": null,
            "height": null,
            "justify_content": null,
            "justify_items": null,
            "left": null,
            "margin": null,
            "max_height": null,
            "max_width": null,
            "min_height": null,
            "min_width": null,
            "object_fit": null,
            "object_position": null,
            "order": null,
            "overflow": null,
            "overflow_x": null,
            "overflow_y": null,
            "padding": null,
            "right": null,
            "top": null,
            "visibility": null,
            "width": null
          }
        },
        "43e6f5758614481abfe9b184ccc54065": {
          "model_module": "@jupyter-widgets/controls",
          "model_name": "DescriptionStyleModel",
          "model_module_version": "1.5.0",
          "state": {
            "_model_module": "@jupyter-widgets/controls",
            "_model_module_version": "1.5.0",
            "_model_name": "DescriptionStyleModel",
            "_view_count": null,
            "_view_module": "@jupyter-widgets/base",
            "_view_module_version": "1.2.0",
            "_view_name": "StyleView",
            "description_width": ""
          }
        },
        "0aa5df7ec52c44039f8304716d287f2c": {
          "model_module": "@jupyter-widgets/base",
          "model_name": "LayoutModel",
          "model_module_version": "1.2.0",
          "state": {
            "_model_module": "@jupyter-widgets/base",
            "_model_module_version": "1.2.0",
            "_model_name": "LayoutModel",
            "_view_count": null,
            "_view_module": "@jupyter-widgets/base",
            "_view_module_version": "1.2.0",
            "_view_name": "LayoutView",
            "align_content": null,
            "align_items": null,
            "align_self": null,
            "border": null,
            "bottom": null,
            "display": null,
            "flex": null,
            "flex_flow": null,
            "grid_area": null,
            "grid_auto_columns": null,
            "grid_auto_flow": null,
            "grid_auto_rows": null,
            "grid_column": null,
            "grid_gap": null,
            "grid_row": null,
            "grid_template_areas": null,
            "grid_template_columns": null,
            "grid_template_rows": null,
            "height": null,
            "justify_content": null,
            "justify_items": null,
            "left": null,
            "margin": null,
            "max_height": null,
            "max_width": null,
            "min_height": null,
            "min_width": null,
            "object_fit": null,
            "object_position": null,
            "order": null,
            "overflow": null,
            "overflow_x": null,
            "overflow_y": null,
            "padding": null,
            "right": null,
            "top": null,
            "visibility": null,
            "width": null
          }
        },
        "66eeeaa48dda4af18086575cdc7fcade": {
          "model_module": "@jupyter-widgets/controls",
          "model_name": "ProgressStyleModel",
          "model_module_version": "1.5.0",
          "state": {
            "_model_module": "@jupyter-widgets/controls",
            "_model_module_version": "1.5.0",
            "_model_name": "ProgressStyleModel",
            "_view_count": null,
            "_view_module": "@jupyter-widgets/base",
            "_view_module_version": "1.2.0",
            "_view_name": "StyleView",
            "bar_color": null,
            "description_width": ""
          }
        },
        "b533e7df8d5e4f7a933de73806c49476": {
          "model_module": "@jupyter-widgets/base",
          "model_name": "LayoutModel",
          "model_module_version": "1.2.0",
          "state": {
            "_model_module": "@jupyter-widgets/base",
            "_model_module_version": "1.2.0",
            "_model_name": "LayoutModel",
            "_view_count": null,
            "_view_module": "@jupyter-widgets/base",
            "_view_module_version": "1.2.0",
            "_view_name": "LayoutView",
            "align_content": null,
            "align_items": null,
            "align_self": null,
            "border": null,
            "bottom": null,
            "display": null,
            "flex": null,
            "flex_flow": null,
            "grid_area": null,
            "grid_auto_columns": null,
            "grid_auto_flow": null,
            "grid_auto_rows": null,
            "grid_column": null,
            "grid_gap": null,
            "grid_row": null,
            "grid_template_areas": null,
            "grid_template_columns": null,
            "grid_template_rows": null,
            "height": null,
            "justify_content": null,
            "justify_items": null,
            "left": null,
            "margin": null,
            "max_height": null,
            "max_width": null,
            "min_height": null,
            "min_width": null,
            "object_fit": null,
            "object_position": null,
            "order": null,
            "overflow": null,
            "overflow_x": null,
            "overflow_y": null,
            "padding": null,
            "right": null,
            "top": null,
            "visibility": null,
            "width": null
          }
        },
        "5aeef1648c674e8b977c8f6f5393eaa9": {
          "model_module": "@jupyter-widgets/controls",
          "model_name": "DescriptionStyleModel",
          "model_module_version": "1.5.0",
          "state": {
            "_model_module": "@jupyter-widgets/controls",
            "_model_module_version": "1.5.0",
            "_model_name": "DescriptionStyleModel",
            "_view_count": null,
            "_view_module": "@jupyter-widgets/base",
            "_view_module_version": "1.2.0",
            "_view_name": "StyleView",
            "description_width": ""
          }
        }
      }
    }
  },
  "cells": [
    {
      "cell_type": "markdown",
      "source": [
        "**BioNER using BERT (Transfer learning model)**"
      ],
      "metadata": {
        "id": "pO9PqOAOUeuk"
      }
    },
    {
      "cell_type": "code",
      "source": [
        "import nltk\n",
        "nltk.download('all')"
      ],
      "metadata": {
        "id": "aNwilXkeuYXD"
      },
      "execution_count": null,
      "outputs": []
    },
    {
      "cell_type": "code",
      "source": [
        "from nltk.stem import WordNetLemmatizer\n",
        "from nltk.tokenize import word_tokenize\n",
        "from nltk.corpus import stopwords"
      ],
      "metadata": {
        "id": "T-PliHVbu9AA"
      },
      "execution_count": 2,
      "outputs": []
    },
    {
      "cell_type": "code",
      "source": [
        "pip install transformers==4.28.0"
      ],
      "metadata": {
        "id": "A0EAY5L-Cdw_"
      },
      "execution_count": null,
      "outputs": []
    },
    {
      "cell_type": "code",
      "source": [
        "pip install datasets"
      ],
      "metadata": {
        "id": "tNg0JCbIBtlA"
      },
      "execution_count": null,
      "outputs": []
    },
    {
      "cell_type": "code",
      "execution_count": 5,
      "metadata": {
        "colab": {
          "base_uri": "https://localhost:8080/",
          "height": 87,
          "referenced_widgets": [
            "0ea9fda531c14051918470387a3a5a38",
            "d0f6fa80a3e7414eb5a7cb7b92ec6b73",
            "673367b940d746eb8155fdaa8e284f87",
            "94f3169e59824467875f65a244adc44d",
            "e886aa8c7fba42368e2ed1a05c2e04d2",
            "a7a223cd3fbb47bca7e2decb28ea491f",
            "1b3405f49f314ba9817d25e2c2228b81",
            "3ce79a83eb964dcab5eca7c6ac1d9068",
            "08a8f12e54044e3f96111e85473625e1",
            "5ea949ed2070477793483d7ccb905676",
            "e889a658d81445a8834d57661c32801c"
          ]
        },
        "id": "26dradPgASnR",
        "outputId": "07f3742b-94a1-48c3-fbca-cdf5883a1fee"
      },
      "outputs": [
        {
          "output_type": "stream",
          "name": "stderr",
          "text": [
            "WARNING:datasets.builder:Found cached dataset ncbi_disease (/root/.cache/huggingface/datasets/ncbi_disease/ncbi_disease/1.0.0/92314c7992b0b8a5ea2ad101be33f365b684a2cc011e0ffa29c691e6d32b2d03)\n"
          ]
        },
        {
          "output_type": "display_data",
          "data": {
            "text/plain": [
              "  0%|          | 0/3 [00:00<?, ?it/s]"
            ],
            "application/vnd.jupyter.widget-view+json": {
              "version_major": 2,
              "version_minor": 0,
              "model_id": "0ea9fda531c14051918470387a3a5a38"
            }
          },
          "metadata": {}
        }
      ],
      "source": [
        "from datasets import load_dataset\n",
        "\n",
        "dataset = load_dataset('ncbi_disease')"
      ]
    },
    {
      "cell_type": "code",
      "source": [
        "dataset"
      ],
      "metadata": {
        "colab": {
          "base_uri": "https://localhost:8080/"
        },
        "id": "oYkF6QtgAU7d",
        "outputId": "5fef9faf-8a2f-4a2e-e2a9-a8402eb93a5c"
      },
      "execution_count": 6,
      "outputs": [
        {
          "output_type": "execute_result",
          "data": {
            "text/plain": [
              "DatasetDict({\n",
              "    train: Dataset({\n",
              "        features: ['id', 'tokens', 'ner_tags'],\n",
              "        num_rows: 5433\n",
              "    })\n",
              "    validation: Dataset({\n",
              "        features: ['id', 'tokens', 'ner_tags'],\n",
              "        num_rows: 924\n",
              "    })\n",
              "    test: Dataset({\n",
              "        features: ['id', 'tokens', 'ner_tags'],\n",
              "        num_rows: 941\n",
              "    })\n",
              "})"
            ]
          },
          "metadata": {},
          "execution_count": 6
        }
      ]
    },
    {
      "cell_type": "code",
      "source": [
        "dataset[\"train\"][0]"
      ],
      "metadata": {
        "colab": {
          "base_uri": "https://localhost:8080/"
        },
        "id": "C6PSUVe1CCCe",
        "outputId": "bcf4260b-8bb2-4af1-b403-172571a43817"
      },
      "execution_count": 7,
      "outputs": [
        {
          "output_type": "execute_result",
          "data": {
            "text/plain": [
              "{'id': '0',\n",
              " 'tokens': ['Identification',\n",
              "  'of',\n",
              "  'APC2',\n",
              "  ',',\n",
              "  'a',\n",
              "  'homologue',\n",
              "  'of',\n",
              "  'the',\n",
              "  'adenomatous',\n",
              "  'polyposis',\n",
              "  'coli',\n",
              "  'tumour',\n",
              "  'suppressor',\n",
              "  '.'],\n",
              " 'ner_tags': [0, 0, 0, 0, 0, 0, 0, 0, 1, 2, 2, 2, 0, 0]}"
            ]
          },
          "metadata": {},
          "execution_count": 7
        }
      ]
    },
    {
      "cell_type": "code",
      "source": [
        "from transformers import AutoTokenizer\n",
        "\n",
        "MODEL = \"microsoft/BiomedNLP-PubMedBERT-base-uncased-abstract-fulltext\"\n",
        "\n",
        "tokenizer = AutoTokenizer.from_pretrained(MODEL)"
      ],
      "metadata": {
        "id": "rcyTBSW6CMT5"
      },
      "execution_count": 8,
      "outputs": []
    },
    {
      "cell_type": "code",
      "source": [
        "train_texts = [item[\"tokens\"] for item in dataset[\"train\"]]\n",
        "dev_texts = [item[\"tokens\"] for item in dataset[\"validation\"]]\n",
        "test_texts = [item[\"tokens\"] for item in dataset[\"test\"]]\n",
        "\n",
        "train_texts_encoded = tokenizer(train_texts, padding=True, truncation=True, max_length=256, is_split_into_words=True)\n",
        "dev_texts_encoded = tokenizer(dev_texts, padding=True, truncation=True, max_length=256, is_split_into_words=True)\n",
        "test_texts_encoded = tokenizer(test_texts, padding=True, truncation=True, max_length=256, is_split_into_words=True)\n"
      ],
      "metadata": {
        "id": "MQnnph0bCnoZ"
      },
      "execution_count": 9,
      "outputs": []
    },
    {
      "cell_type": "code",
      "source": [
        "import re\n",
        "def pre_processing(doc):\n",
        "\n",
        "    for i in doc:\n",
        "    \n",
        "      #lower case\n",
        "      lower=i.lower()\n",
        "      \n",
        "      #tokenize\n",
        "      tokenize=lower.split( )\n",
        "      \n",
        "      #stopwwords\n",
        "      sw=stopwords.words('english')\n",
        "      d=[i for i in tokenize if i not in sw ]\n",
        "      \n",
        "      #remove punctutation and numbers\n",
        "      d=[re.sub(r'[^\\w]|[0-9]', '', i) for i in d]\n",
        "      \n",
        "      #remove empty space\n",
        "      d=[i for i in d if re.search('\\w',i)]\n",
        "      return d\n",
        "\n",
        "#for i in train_texts:\n",
        "m=pre_processing(train_texts[0])"
      ],
      "metadata": {
        "id": "ibF5_YQqtxbx"
      },
      "execution_count": 10,
      "outputs": []
    },
    {
      "cell_type": "code",
      "source": [
        "x = tokenizer(m, padding=True, truncation=True, max_length=256, is_split_into_words=True)\n",
        "x"
      ],
      "metadata": {
        "colab": {
          "base_uri": "https://localhost:8080/"
        },
        "id": "ReMPBne_uuUh",
        "outputId": "f6e5d002-ccb0-4329-dc8b-ec2cc1fb25ab"
      },
      "execution_count": 11,
      "outputs": [
        {
          "output_type": "execute_result",
          "data": {
            "text/plain": [
              "{'input_ids': [2, 4824, 3], 'token_type_ids': [0, 0, 0], 'attention_mask': [1, 1, 1]}"
            ]
          },
          "metadata": {},
          "execution_count": 11
        }
      ]
    },
    {
      "cell_type": "code",
      "source": [
        "train_texts_encoded[0]"
      ],
      "metadata": {
        "colab": {
          "base_uri": "https://localhost:8080/"
        },
        "id": "UizpXJq0CzT4",
        "outputId": "32d97488-a202-4bea-ca5b-3bee0a86ccc9"
      },
      "execution_count": 12,
      "outputs": [
        {
          "output_type": "execute_result",
          "data": {
            "text/plain": [
              "Encoding(num_tokens=138, attributes=[ids, type_ids, tokens, offsets, attention_mask, special_tokens_mask, overflowing])"
            ]
          },
          "metadata": {},
          "execution_count": 12
        }
      ]
    },
    {
      "cell_type": "code",
      "source": [
        "train_texts_encoded[0].tokens[:20]"
      ],
      "metadata": {
        "colab": {
          "base_uri": "https://localhost:8080/"
        },
        "id": "aflTecbSC2o6",
        "outputId": "d52c5622-28ac-42bd-b2d1-02f8fb4262b7"
      },
      "execution_count": 13,
      "outputs": [
        {
          "output_type": "execute_result",
          "data": {
            "text/plain": [
              "['[CLS]',\n",
              " 'identification',\n",
              " 'of',\n",
              " 'apc',\n",
              " '##2',\n",
              " ',',\n",
              " 'a',\n",
              " 'homologue',\n",
              " 'of',\n",
              " 'the',\n",
              " 'adenomatous',\n",
              " 'polyposis',\n",
              " 'coli',\n",
              " 'tumour',\n",
              " 'suppressor',\n",
              " '.',\n",
              " '[SEP]',\n",
              " '[PAD]',\n",
              " '[PAD]',\n",
              " '[PAD]']"
            ]
          },
          "metadata": {},
          "execution_count": 13
        }
      ]
    },
    {
      "cell_type": "code",
      "source": [
        "train_texts_encoded[0].offsets[:20]"
      ],
      "metadata": {
        "colab": {
          "base_uri": "https://localhost:8080/"
        },
        "id": "o3HWxc7_C57l",
        "outputId": "91a29f33-1a28-4dbc-c062-41d9cb1b8d73"
      },
      "execution_count": 14,
      "outputs": [
        {
          "output_type": "execute_result",
          "data": {
            "text/plain": [
              "[(0, 0),\n",
              " (0, 14),\n",
              " (0, 2),\n",
              " (0, 3),\n",
              " (3, 4),\n",
              " (0, 1),\n",
              " (0, 1),\n",
              " (0, 9),\n",
              " (0, 2),\n",
              " (0, 3),\n",
              " (0, 11),\n",
              " (0, 9),\n",
              " (0, 4),\n",
              " (0, 6),\n",
              " (0, 10),\n",
              " (0, 1),\n",
              " (0, 0),\n",
              " (0, 0),\n",
              " (0, 0),\n",
              " (0, 0)]"
            ]
          },
          "metadata": {},
          "execution_count": 14
        }
      ]
    },
    {
      "cell_type": "code",
      "source": [
        "all_labels = list(set([label for item in dataset[\"train\"] for label in item[\"ner_tags\"]]))\n",
        "all_labels"
      ],
      "metadata": {
        "colab": {
          "base_uri": "https://localhost:8080/"
        },
        "id": "YqBrt4zvC_Au",
        "outputId": "ec0eed33-c421-401e-b64a-1b3b3c625068"
      },
      "execution_count": 15,
      "outputs": [
        {
          "output_type": "execute_result",
          "data": {
            "text/plain": [
              "[0, 1, 2]"
            ]
          },
          "metadata": {},
          "execution_count": 15
        }
      ]
    },
    {
      "cell_type": "code",
      "source": [
        "import numpy as np\n",
        "\n",
        "def map_entities_to_tokens(items, encodings):\n",
        "    \n",
        "    labels = [item[\"ner_tags\"] for item in items]\n",
        "    offsets = [encoding.offsets for encoding in encodings]\n",
        "    encoded_labels = []\n",
        "    for doc_labels, doc_offset in zip(labels, offsets):\n",
        "        # create an empty array of -100\n",
        "        doc_enc_labels = np.ones(len(doc_offset),dtype=int) * -100\n",
        "        arr_offset = np.array(doc_offset)\n",
        "\n",
        "        # set labels whose first offset position is 0 and the second is not 0\n",
        "        doc_enc_labels[(arr_offset[:,0] == 0) & (arr_offset[:,1] != 0)] = doc_labels\n",
        "        encoded_labels.append(doc_enc_labels.tolist())\n",
        "\n",
        "    return encoded_labels\n",
        "\n",
        "train_labels = map_entities_to_tokens(dataset[\"train\"], train_texts_encoded.encodings)\n",
        "dev_labels = map_entities_to_tokens(dataset[\"validation\"], dev_texts_encoded.encodings)\n",
        "test_labels = map_entities_to_tokens(dataset[\"test\"], test_texts_encoded.encodings)\n"
      ],
      "metadata": {
        "id": "SDq3ynZJDA_g"
      },
      "execution_count": 16,
      "outputs": []
    },
    {
      "cell_type": "code",
      "source": [
        "list(zip(train_texts_encoded[0].tokens[:20], train_labels[0][:20]))"
      ],
      "metadata": {
        "colab": {
          "base_uri": "https://localhost:8080/"
        },
        "id": "vzjZySAWDJDz",
        "outputId": "4d1e1064-4a4f-418b-fcf0-7f4946538dc3"
      },
      "execution_count": 17,
      "outputs": [
        {
          "output_type": "execute_result",
          "data": {
            "text/plain": [
              "[('[CLS]', -100),\n",
              " ('identification', 0),\n",
              " ('of', 0),\n",
              " ('apc', 0),\n",
              " ('##2', -100),\n",
              " (',', 0),\n",
              " ('a', 0),\n",
              " ('homologue', 0),\n",
              " ('of', 0),\n",
              " ('the', 0),\n",
              " ('adenomatous', 1),\n",
              " ('polyposis', 2),\n",
              " ('coli', 2),\n",
              " ('tumour', 2),\n",
              " ('suppressor', 0),\n",
              " ('.', 0),\n",
              " ('[SEP]', -100),\n",
              " ('[PAD]', -100),\n",
              " ('[PAD]', -100),\n",
              " ('[PAD]', -100)]"
            ]
          },
          "metadata": {},
          "execution_count": 17
        }
      ]
    },
    {
      "cell_type": "code",
      "source": [
        "import torch\n",
        "\n",
        "class NERDataset(torch.utils.data.Dataset):\n",
        "    def __init__(self, encodings, labels):\n",
        "        self.encodings = encodings\n",
        "        self.labels = labels\n",
        "\n",
        "    def __getitem__(self, idx):\n",
        "        item = {key: torch.tensor(val[idx]) for key, val in self.encodings.items()}\n",
        "        item['labels'] = torch.tensor(self.labels[idx])\n",
        "        return item\n",
        "\n",
        "    def __len__(self):\n",
        "        return len(self.labels)\n",
        "    \n",
        "\n",
        "train_dataset = NERDataset(train_texts_encoded, train_labels)\n",
        "dev_dataset = NERDataset(dev_texts_encoded, dev_labels)\n",
        "test_dataset = NERDataset(test_texts_encoded, test_labels)\n",
        "\n",
        "print(f\"Train items: {len(train_dataset)}\")\n",
        "print(f\"Dev items: {len(dev_dataset)}\")\n",
        "print(f\"Test items: {len(test_dataset)}\")"
      ],
      "metadata": {
        "colab": {
          "base_uri": "https://localhost:8080/"
        },
        "id": "bbuyWydpDK6B",
        "outputId": "5b927797-696f-4ac7-a583-522e3ea75b70"
      },
      "execution_count": 18,
      "outputs": [
        {
          "output_type": "stream",
          "name": "stdout",
          "text": [
            "Train items: 5433\n",
            "Dev items: 924\n",
            "Test items: 941\n"
          ]
        }
      ]
    },
    {
      "cell_type": "code",
      "source": [
        "from sklearn.metrics import accuracy_score, precision_recall_fscore_support\n",
        "\n",
        "def compute_metrics(pred):\n",
        "    labels = pred.label_ids\n",
        "    preds = pred.predictions.argmax(-1)\n",
        "\n",
        "    flat_labels, flat_preds = [], []\n",
        "    flat_ent_labels, flat_ent_preds = [], []\n",
        "    for label_row, pred_row in zip(labels, preds):\n",
        "        for label, pred_label in zip(label_row, pred_row):\n",
        "            if label != -100:\n",
        "                flat_labels.append(label)\n",
        "                flat_preds.append(pred_label)\n",
        "                if label != 0 or pred_label != 0:\n",
        "                    flat_ent_labels.append(label)\n",
        "                    flat_ent_preds.append(pred_label)\n",
        "                    \n",
        "        \n",
        "    precision, recall, f1, _ = precision_recall_fscore_support(flat_ent_labels, flat_ent_preds, average='micro')\n",
        "    acc = accuracy_score(flat_labels, flat_preds)\n",
        "    return {\n",
        "        'accuracy': acc,\n",
        "        'f1': f1,\n",
        "        'precision': precision,\n",
        "        'recall': recall\n",
        "    }"
      ],
      "metadata": {
        "id": "_JgOn7EhDOmj"
      },
      "execution_count": 19,
      "outputs": []
    },
    {
      "cell_type": "code",
      "source": [
        "from transformers import Trainer, TrainingArguments, AutoModelForTokenClassification, BertForTokenClassification\n",
        "\n",
        "model = AutoModelForTokenClassification.from_pretrained(MODEL, num_labels=len(all_labels))\n",
        "\n",
        "\n",
        "#device = torch.device(\"cpu\")\n",
        "#model.to(device)\n",
        "\n",
        "training_args = TrainingArguments(\n",
        "    output_dir='./results_1',          # output directory\n",
        "    num_train_epochs=3,              # total # of training epochs\n",
        "    per_device_train_batch_size=8,  # batch size per device during training\n",
        "    per_device_eval_batch_size=8,   # batch size for evaluation\n",
        "    warmup_steps=int(len(train_dataset)/8),  # number of warmup steps for learning rate scheduler\n",
        "    weight_decay=0.01,              \n",
        "    logging_dir='./logs',            # directory for storing logs\n",
        "    evaluation_strategy=\"steps\",\n",
        "    eval_steps=200,\n",
        "    save_steps=200,\n",
        "    save_total_limit=5,\n",
        "    load_best_model_at_end=True,\n",
        "    no_cuda=False\n",
        ")\n",
        "\n",
        "trainer = Trainer(\n",
        "    model=model,                         \n",
        "    args=training_args,                  \n",
        "    compute_metrics=compute_metrics,\n",
        "    train_dataset=train_dataset,         \n",
        "    eval_dataset=dev_dataset,            \n",
        ")\n",
        "\n",
        "trainer.train()"
      ],
      "metadata": {
        "colab": {
          "base_uri": "https://localhost:8080/",
          "height": 604,
          "referenced_widgets": [
            "80273f72135a4942ab188091680913ab",
            "b66a571a8e984349904be3e83d57d13b",
            "2a6c4f39f60e49cda998d2274b9c01cc",
            "189937c613d24fdc9558702a78830bb2",
            "8567cdcf019c4b3bb589910c2cb08ec4",
            "950e7f2dea17429f9150733e5d16bae3",
            "43e6f5758614481abfe9b184ccc54065",
            "0aa5df7ec52c44039f8304716d287f2c",
            "66eeeaa48dda4af18086575cdc7fcade",
            "b533e7df8d5e4f7a933de73806c49476",
            "5aeef1648c674e8b977c8f6f5393eaa9"
          ]
        },
        "id": "fcsHvYwIDSLX",
        "outputId": "5bbda281-6f8b-4268-dc4f-adf722d488e0"
      },
      "execution_count": 20,
      "outputs": [
        {
          "output_type": "display_data",
          "data": {
            "text/plain": [
              "Downloading pytorch_model.bin:   0%|          | 0.00/440M [00:00<?, ?B/s]"
            ],
            "application/vnd.jupyter.widget-view+json": {
              "version_major": 2,
              "version_minor": 0,
              "model_id": "80273f72135a4942ab188091680913ab"
            }
          },
          "metadata": {}
        },
        {
          "output_type": "stream",
          "name": "stderr",
          "text": [
            "Some weights of the model checkpoint at microsoft/BiomedNLP-PubMedBERT-base-uncased-abstract-fulltext were not used when initializing BertForTokenClassification: ['cls.seq_relationship.bias', 'cls.predictions.decoder.bias', 'cls.predictions.transform.LayerNorm.bias', 'cls.predictions.decoder.weight', 'cls.predictions.bias', 'cls.predictions.transform.LayerNorm.weight', 'cls.predictions.transform.dense.bias', 'cls.seq_relationship.weight', 'cls.predictions.transform.dense.weight']\n",
            "- This IS expected if you are initializing BertForTokenClassification from the checkpoint of a model trained on another task or with another architecture (e.g. initializing a BertForSequenceClassification model from a BertForPreTraining model).\n",
            "- This IS NOT expected if you are initializing BertForTokenClassification from the checkpoint of a model that you expect to be exactly identical (initializing a BertForSequenceClassification model from a BertForSequenceClassification model).\n",
            "Some weights of BertForTokenClassification were not initialized from the model checkpoint at microsoft/BiomedNLP-PubMedBERT-base-uncased-abstract-fulltext and are newly initialized: ['classifier.weight', 'classifier.bias']\n",
            "You should probably TRAIN this model on a down-stream task to be able to use it for predictions and inference.\n",
            "/usr/local/lib/python3.10/dist-packages/transformers/optimization.py:391: FutureWarning: This implementation of AdamW is deprecated and will be removed in a future version. Use the PyTorch implementation torch.optim.AdamW instead, or set `no_deprecation_warning=True` to disable this warning\n",
            "  warnings.warn(\n"
          ]
        },
        {
          "output_type": "display_data",
          "data": {
            "text/plain": [
              "<IPython.core.display.HTML object>"
            ],
            "text/html": [
              "\n",
              "    <div>\n",
              "      \n",
              "      <progress value='2040' max='2040' style='width:300px; height:20px; vertical-align: middle;'></progress>\n",
              "      [2040/2040 09:11, Epoch 3/3]\n",
              "    </div>\n",
              "    <table border=\"1\" class=\"dataframe\">\n",
              "  <thead>\n",
              " <tr style=\"text-align: left;\">\n",
              "      <th>Step</th>\n",
              "      <th>Training Loss</th>\n",
              "      <th>Validation Loss</th>\n",
              "      <th>Accuracy</th>\n",
              "      <th>F1</th>\n",
              "      <th>Precision</th>\n",
              "      <th>Recall</th>\n",
              "    </tr>\n",
              "  </thead>\n",
              "  <tbody>\n",
              "    <tr>\n",
              "      <td>200</td>\n",
              "      <td>No log</td>\n",
              "      <td>0.089966</td>\n",
              "      <td>0.975301</td>\n",
              "      <td>0.699797</td>\n",
              "      <td>0.699797</td>\n",
              "      <td>0.699797</td>\n",
              "    </tr>\n",
              "    <tr>\n",
              "      <td>400</td>\n",
              "      <td>No log</td>\n",
              "      <td>0.055895</td>\n",
              "      <td>0.983896</td>\n",
              "      <td>0.805247</td>\n",
              "      <td>0.805247</td>\n",
              "      <td>0.805247</td>\n",
              "    </tr>\n",
              "    <tr>\n",
              "      <td>600</td>\n",
              "      <td>0.197000</td>\n",
              "      <td>0.053588</td>\n",
              "      <td>0.984855</td>\n",
              "      <td>0.823872</td>\n",
              "      <td>0.823872</td>\n",
              "      <td>0.823872</td>\n",
              "    </tr>\n",
              "    <tr>\n",
              "      <td>800</td>\n",
              "      <td>0.197000</td>\n",
              "      <td>0.043774</td>\n",
              "      <td>0.987484</td>\n",
              "      <td>0.849322</td>\n",
              "      <td>0.849322</td>\n",
              "      <td>0.849322</td>\n",
              "    </tr>\n",
              "    <tr>\n",
              "      <td>1000</td>\n",
              "      <td>0.046600</td>\n",
              "      <td>0.044310</td>\n",
              "      <td>0.986524</td>\n",
              "      <td>0.840651</td>\n",
              "      <td>0.840651</td>\n",
              "      <td>0.840651</td>\n",
              "    </tr>\n",
              "    <tr>\n",
              "      <td>1200</td>\n",
              "      <td>0.046600</td>\n",
              "      <td>0.060826</td>\n",
              "      <td>0.984438</td>\n",
              "      <td>0.810371</td>\n",
              "      <td>0.810371</td>\n",
              "      <td>0.810371</td>\n",
              "    </tr>\n",
              "    <tr>\n",
              "      <td>1400</td>\n",
              "      <td>0.046600</td>\n",
              "      <td>0.054670</td>\n",
              "      <td>0.986274</td>\n",
              "      <td>0.833080</td>\n",
              "      <td>0.833080</td>\n",
              "      <td>0.833080</td>\n",
              "    </tr>\n",
              "    <tr>\n",
              "      <td>1600</td>\n",
              "      <td>0.024200</td>\n",
              "      <td>0.045866</td>\n",
              "      <td>0.988944</td>\n",
              "      <td>0.867101</td>\n",
              "      <td>0.867101</td>\n",
              "      <td>0.867101</td>\n",
              "    </tr>\n",
              "    <tr>\n",
              "      <td>1800</td>\n",
              "      <td>0.024200</td>\n",
              "      <td>0.051987</td>\n",
              "      <td>0.987484</td>\n",
              "      <td>0.850374</td>\n",
              "      <td>0.850374</td>\n",
              "      <td>0.850374</td>\n",
              "    </tr>\n",
              "    <tr>\n",
              "      <td>2000</td>\n",
              "      <td>0.011800</td>\n",
              "      <td>0.052524</td>\n",
              "      <td>0.987359</td>\n",
              "      <td>0.847815</td>\n",
              "      <td>0.847815</td>\n",
              "      <td>0.847815</td>\n",
              "    </tr>\n",
              "  </tbody>\n",
              "</table><p>"
            ]
          },
          "metadata": {}
        },
        {
          "output_type": "execute_result",
          "data": {
            "text/plain": [
              "TrainOutput(global_step=2040, training_loss=0.06871181568678687, metrics={'train_runtime': 556.1537, 'train_samples_per_second': 29.307, 'train_steps_per_second': 3.668, 'total_flos': 1147910506316604.0, 'train_loss': 0.06871181568678687, 'epoch': 3.0})"
            ]
          },
          "metadata": {},
          "execution_count": 20
        }
      ]
    },
    {
      "cell_type": "code",
      "source": [
        "trainer.evaluate(test_dataset)"
      ],
      "metadata": {
        "id": "QfX_8ksTEf67",
        "colab": {
          "base_uri": "https://localhost:8080/",
          "height": 200
        },
        "outputId": "8bb5fe73-b485-4d04-df81-47a050bb95b6"
      },
      "execution_count": 21,
      "outputs": [
        {
          "output_type": "display_data",
          "data": {
            "text/plain": [
              "<IPython.core.display.HTML object>"
            ],
            "text/html": [
              "\n",
              "    <div>\n",
              "      \n",
              "      <progress value='118' max='118' style='width:300px; height:20px; vertical-align: middle;'></progress>\n",
              "      [118/118 00:06]\n",
              "    </div>\n",
              "    "
            ]
          },
          "metadata": {}
        },
        {
          "output_type": "execute_result",
          "data": {
            "text/plain": [
              "{'eval_loss': 0.04873446747660637,\n",
              " 'eval_accuracy': 0.9851002163530228,\n",
              " 'eval_f1': 0.8359550561797754,\n",
              " 'eval_precision': 0.8359550561797753,\n",
              " 'eval_recall': 0.8359550561797753,\n",
              " 'eval_runtime': 7.0451,\n",
              " 'eval_samples_per_second': 133.568,\n",
              " 'eval_steps_per_second': 16.749,\n",
              " 'epoch': 3.0}"
            ]
          },
          "metadata": {},
          "execution_count": 21
        }
      ]
    },
    {
      "cell_type": "code",
      "source": [
        "from transformers import pipeline\n",
        "\n",
        "model = AutoModelForTokenClassification.from_pretrained(\"/content/results_1/checkpoint-2000\")\n",
        "nlp = pipeline(\"ner\", tokenizer=tokenizer, model=model)"
      ],
      "metadata": {
        "id": "4kmjB2DJF4sz"
      },
      "execution_count": 22,
      "outputs": []
    },
    {
      "cell_type": "code",
      "source": [
        "print(dataset[\"test\"][2])\n",
        "\n",
        "nlp(dataset[\"test\"][2][\"tokens\"])"
      ],
      "metadata": {
        "id": "l1WTSWPeF5HX",
        "colab": {
          "base_uri": "https://localhost:8080/"
        },
        "outputId": "7bbd0469-bb4e-43a9-afc4-8493122f8c46"
      },
      "execution_count": 23,
      "outputs": [
        {
          "output_type": "stream",
          "name": "stderr",
          "text": [
            "Asking to truncate to max_length but no maximum length is provided and the model has no predefined maximum length. Default to no truncation.\n"
          ]
        },
        {
          "output_type": "stream",
          "name": "stdout",
          "text": [
            "{'id': '2', 'tokens': ['The', 'risk', 'of', 'cancer', ',', 'especially', 'lymphoid', 'neoplasias', ',', 'is', 'substantially', 'elevated', 'in', 'A', '-', 'T', 'patients', 'and', 'has', 'long', 'been', 'associated', 'with', 'chromosomal', 'instability', '.'], 'ner_tags': [0, 0, 0, 1, 0, 0, 1, 2, 0, 0, 0, 0, 0, 1, 2, 2, 0, 0, 0, 0, 0, 0, 0, 0, 0, 0]}\n"
          ]
        },
        {
          "output_type": "execute_result",
          "data": {
            "text/plain": [
              "[[{'entity': 'LABEL_0',\n",
              "   'score': 0.9999144,\n",
              "   'index': 1,\n",
              "   'word': 'the',\n",
              "   'start': 0,\n",
              "   'end': 3}],\n",
              " [{'entity': 'LABEL_0',\n",
              "   'score': 0.99970055,\n",
              "   'index': 1,\n",
              "   'word': 'risk',\n",
              "   'start': 0,\n",
              "   'end': 4}],\n",
              " [{'entity': 'LABEL_0',\n",
              "   'score': 0.99991167,\n",
              "   'index': 1,\n",
              "   'word': 'of',\n",
              "   'start': 0,\n",
              "   'end': 2}],\n",
              " [{'entity': 'LABEL_0',\n",
              "   'score': 0.99284416,\n",
              "   'index': 1,\n",
              "   'word': 'cancer',\n",
              "   'start': 0,\n",
              "   'end': 6}],\n",
              " [{'entity': 'LABEL_0',\n",
              "   'score': 0.9999199,\n",
              "   'index': 1,\n",
              "   'word': ',',\n",
              "   'start': 0,\n",
              "   'end': 1}],\n",
              " [{'entity': 'LABEL_0',\n",
              "   'score': 0.99988854,\n",
              "   'index': 1,\n",
              "   'word': 'especially',\n",
              "   'start': 0,\n",
              "   'end': 10}],\n",
              " [{'entity': 'LABEL_0',\n",
              "   'score': 0.9997329,\n",
              "   'index': 1,\n",
              "   'word': 'lymphoid',\n",
              "   'start': 0,\n",
              "   'end': 8}],\n",
              " [{'entity': 'LABEL_1',\n",
              "   'score': 0.927492,\n",
              "   'index': 1,\n",
              "   'word': 'neoplasia',\n",
              "   'start': 0,\n",
              "   'end': 9},\n",
              "  {'entity': 'LABEL_0',\n",
              "   'score': 0.70131797,\n",
              "   'index': 2,\n",
              "   'word': '##s',\n",
              "   'start': 9,\n",
              "   'end': 10}],\n",
              " [{'entity': 'LABEL_0',\n",
              "   'score': 0.9999199,\n",
              "   'index': 1,\n",
              "   'word': ',',\n",
              "   'start': 0,\n",
              "   'end': 1}],\n",
              " [{'entity': 'LABEL_0',\n",
              "   'score': 0.9999218,\n",
              "   'index': 1,\n",
              "   'word': 'is',\n",
              "   'start': 0,\n",
              "   'end': 2}],\n",
              " [{'entity': 'LABEL_0',\n",
              "   'score': 0.99979025,\n",
              "   'index': 1,\n",
              "   'word': 'substantially',\n",
              "   'start': 0,\n",
              "   'end': 13}],\n",
              " [{'entity': 'LABEL_0',\n",
              "   'score': 0.9994778,\n",
              "   'index': 1,\n",
              "   'word': 'elevated',\n",
              "   'start': 0,\n",
              "   'end': 8}],\n",
              " [{'entity': 'LABEL_0',\n",
              "   'score': 0.9997042,\n",
              "   'index': 1,\n",
              "   'word': 'in',\n",
              "   'start': 0,\n",
              "   'end': 2}],\n",
              " [{'entity': 'LABEL_0',\n",
              "   'score': 0.99985445,\n",
              "   'index': 1,\n",
              "   'word': 'a',\n",
              "   'start': 0,\n",
              "   'end': 1}],\n",
              " [{'entity': 'LABEL_0',\n",
              "   'score': 0.99989295,\n",
              "   'index': 1,\n",
              "   'word': '-',\n",
              "   'start': 0,\n",
              "   'end': 1}],\n",
              " [{'entity': 'LABEL_0',\n",
              "   'score': 0.99986815,\n",
              "   'index': 1,\n",
              "   'word': 't',\n",
              "   'start': 0,\n",
              "   'end': 1}],\n",
              " [{'entity': 'LABEL_0',\n",
              "   'score': 0.999938,\n",
              "   'index': 1,\n",
              "   'word': 'patients',\n",
              "   'start': 0,\n",
              "   'end': 8}],\n",
              " [{'entity': 'LABEL_0',\n",
              "   'score': 0.99992204,\n",
              "   'index': 1,\n",
              "   'word': 'and',\n",
              "   'start': 0,\n",
              "   'end': 3}],\n",
              " [{'entity': 'LABEL_0',\n",
              "   'score': 0.9999329,\n",
              "   'index': 1,\n",
              "   'word': 'has',\n",
              "   'start': 0,\n",
              "   'end': 3}],\n",
              " [{'entity': 'LABEL_0',\n",
              "   'score': 0.9999125,\n",
              "   'index': 1,\n",
              "   'word': 'long',\n",
              "   'start': 0,\n",
              "   'end': 4}],\n",
              " [{'entity': 'LABEL_0',\n",
              "   'score': 0.99994326,\n",
              "   'index': 1,\n",
              "   'word': 'been',\n",
              "   'start': 0,\n",
              "   'end': 4}],\n",
              " [{'entity': 'LABEL_0',\n",
              "   'score': 0.9997378,\n",
              "   'index': 1,\n",
              "   'word': 'associated',\n",
              "   'start': 0,\n",
              "   'end': 10}],\n",
              " [{'entity': 'LABEL_0',\n",
              "   'score': 0.999948,\n",
              "   'index': 1,\n",
              "   'word': 'with',\n",
              "   'start': 0,\n",
              "   'end': 4}],\n",
              " [{'entity': 'LABEL_0',\n",
              "   'score': 0.99985564,\n",
              "   'index': 1,\n",
              "   'word': 'chromosomal',\n",
              "   'start': 0,\n",
              "   'end': 11}],\n",
              " [{'entity': 'LABEL_0',\n",
              "   'score': 0.9936212,\n",
              "   'index': 1,\n",
              "   'word': 'instability',\n",
              "   'start': 0,\n",
              "   'end': 11}],\n",
              " [{'entity': 'LABEL_0',\n",
              "   'score': 0.9999043,\n",
              "   'index': 1,\n",
              "   'word': '.',\n",
              "   'start': 0,\n",
              "   'end': 1}]]"
            ]
          },
          "metadata": {},
          "execution_count": 23
        }
      ]
    }
  ]
}